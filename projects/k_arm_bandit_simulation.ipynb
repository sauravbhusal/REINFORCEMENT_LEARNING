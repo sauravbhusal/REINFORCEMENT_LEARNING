{
 "cells": [
  {
   "cell_type": "code",
   "execution_count": null,
   "id": "2e098356-c7f0-47ac-ae0e-a8f35b704a08",
   "metadata": {},
   "outputs": [],
   "source": [
    "import numpy as np\n",
    "import matplotlib.pyplot as plt"
   ]
  },
  {
   "cell_type": "code",
   "execution_count": null,
   "id": "c181bc4f-dffe-45ee-b898-390b11abfd8a",
   "metadata": {},
   "outputs": [],
   "source": [
    "#setup \n",
    "\n",
    "k = 5                  #number of arms in the bandit\n",
    "steps = 1000           #number of time steps (plays)\n",
    "epsilon = 0.1          #exploration rate\n",
    "runs = 2000            #number of experiments (averaging)"
   ]
  },
  {
   "cell_type": "code",
   "execution_count": null,
   "id": "0e68e7cb-8d7c-404d-845e-1d3c66d835f3",
   "metadata": {},
   "outputs": [],
   "source": [
    "#we will track the average rewards at each time step and how often the optimla action was choosen\n",
    "average_rewards = np.zeros(steps)\n",
    "optimal_action_counts = np.zeros(steps)"
   ]
  },
  {
   "cell_type": "code",
   "execution_count": null,
   "id": "fc1898af-e30a-474f-8f9a-3c4141b565a8",
   "metadata": {},
   "outputs": [],
   "source": [
    "#run multiple experiments\n",
    "for run in range(runs):\n",
    "    #True reward means for this run (stationary bandit)\n",
    "    true_means = np.random.normal(0, 1, 5)                #normal_distribution(center, standard_deviation, dimention)\n",
    "    optimal_action = np.argmax(true_means)                #argmax provides the index of the variable with maximum value\n",
    "\n",
    "    #initialize estimates\n",
    "    Q = np.zeros(k)                                       #estimated values of arms\n",
    "    N = np.zeros(k)                                       #counts how many times each arm was played\n",
    "    \n",
    "    rewards = []\n",
    "\n",
    "    #simulating steps\n",
    "    for t in range(steps):\n",
    "        if np.random.rand() < epsilon:                    #explore\n",
    "            action = np.random.randint(k)                 \n",
    "        else:\n",
    "            action = np.argmax(Q)                         #exploit\n",
    "\n",
    "        #generate reward from true distribution\n",
    "        reward = np.random.normal(true_means[action], 1)\n",
    "        print(action)\n",
    "        print(true_means[action])\n",
    "        print(optimal_action)\n",
    "        print(\" \")\n",
    "        "
   ]
  },
  {
   "cell_type": "code",
   "execution_count": null,
   "id": "1384bbce-9ce4-410a-a113-1eb7c9b1797e",
   "metadata": {},
   "outputs": [],
   "source": []
  }
 ],
 "metadata": {
  "kernelspec": {
   "display_name": "Python 3 (ipykernel)",
   "language": "python",
   "name": "python3"
  },
  "language_info": {
   "codemirror_mode": {
    "name": "ipython",
    "version": 3
   },
   "file_extension": ".py",
   "mimetype": "text/x-python",
   "name": "python",
   "nbconvert_exporter": "python",
   "pygments_lexer": "ipython3",
   "version": "3.10.12"
  }
 },
 "nbformat": 4,
 "nbformat_minor": 5
}
