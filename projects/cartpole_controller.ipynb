{
 "cells": [
  {
   "cell_type": "code",
   "execution_count": 10,
   "id": "e4b64e27-47fd-4b24-8ec1-a1cfe31efd0c",
   "metadata": {},
   "outputs": [],
   "source": [
    "import gymnasium as gym\n",
    "import time"
   ]
  },
  {
   "cell_type": "code",
   "execution_count": 11,
   "id": "424e8749-9100-4a2b-adce-929304603997",
   "metadata": {},
   "outputs": [
    {
     "name": "stdout",
     "output_type": "stream",
     "text": [
      "1\n"
     ]
    }
   ],
   "source": [
    "#creating the environment\n",
    "env = gym.make(\"CartPole-v1\", render_mode=\"human\")  #render mode is set human to visualize as human\n",
    "\n",
    "#resetting the environment for the initial state\n",
    "observation, info = env.reset()\n",
    "    \n",
    "x=0\n",
    "a=0\n",
    "kp = 4\n",
    "kd = 2\n",
    "for _ in range(500):\n",
    "    \n",
    "    # time.sleep(0.1)\n",
    "    pole_angle = observation[2]\n",
    "    pole_angluar_velocity = observation[3]\n",
    "    control_signal = kp*pole_angle + kd * pole_angluar_velocity\n",
    "\n",
    "    if control_signal<0:\n",
    "        action = 0\n",
    "    else:\n",
    "        action = 1\n",
    "    \n",
    "    #action = env.action_space.sample()   #take random action\n",
    "\n",
    "    # a+=1\n",
    "    # action = a%2                        #toggle between action left and right i.e 0 and 1\n",
    "\n",
    "    #step the environment\n",
    "    observation, reward, terminated, truncated, info = env.step(action)\n",
    "\n",
    "    #stop if done\n",
    "    if terminated or truncated:\n",
    "        x+=1\n",
    "        print(x)\n",
    "        observation,info = env.reset()\n",
    "\n",
    "env.close()"
   ]
  },
  {
   "cell_type": "code",
   "execution_count": null,
   "id": "09fc3d03-46d5-44aa-977b-cf01ebec8ff7",
   "metadata": {},
   "outputs": [],
   "source": []
  }
 ],
 "metadata": {
  "kernelspec": {
   "display_name": "Python 3 (ipykernel)",
   "language": "python",
   "name": "python3"
  },
  "language_info": {
   "codemirror_mode": {
    "name": "ipython",
    "version": 3
   },
   "file_extension": ".py",
   "mimetype": "text/x-python",
   "name": "python",
   "nbconvert_exporter": "python",
   "pygments_lexer": "ipython3",
   "version": "3.10.12"
  }
 },
 "nbformat": 4,
 "nbformat_minor": 5
}
