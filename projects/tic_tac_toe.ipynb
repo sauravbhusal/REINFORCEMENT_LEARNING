{
 "cells": [
  {
   "cell_type": "code",
   "execution_count": null,
   "id": "d0b6a2f3-d996-4336-87da-3dd23a215a22",
   "metadata": {},
   "outputs": [],
   "source": [
    "import pygame\n",
    "import sys"
   ]
  },
  {
   "cell_type": "code",
   "execution_count": 5,
   "id": "fab5d794-6b78-4acf-8d41-4cad738176ab",
   "metadata": {},
   "outputs": [
    {
     "data": {
      "text/plain": [
       "(5, 0)"
      ]
     },
     "execution_count": 5,
     "metadata": {},
     "output_type": "execute_result"
    }
   ],
   "source": [
    "#initialize pygame\n",
    "pygame.init()\n",
    "pygame.font.init()"
   ]
  },
  {
   "cell_type": "code",
   "execution_count": 6,
   "id": "a6b91afd-9e17-4c63-bc3d-6d8d13302c03",
   "metadata": {},
   "outputs": [],
   "source": [
    "#constants\n",
    "WIDTH, HEIGHT = 300, 300\n",
    "LINE_WIDTH = 5\n",
    "BOARD_ROWS = 3\n",
    "BOARD_COLS = 3\n",
    "SQUARE_SIZE = WIDTH // BOARD_COLS\n",
    "CIRCLE_RADIUS = SQUARE_SIZE // 3\n",
    "CIRCLE_WIDTH = 10\n",
    "CROSS_WIDTH = 15\n",
    "SPACE = SQUARE_SIZE//4\n",
    "\n",
    "#Colors\n",
    "BG_COLOR = (255, 255, 255)\n",
    "LINE_COLOR = (0, 0, 0)\n",
    "CIRCLE_COLOR = (100, 100, 100)\n",
    "CROSS_COLOR = (200, 0, 0)\n"
   ]
  },
  {
   "cell_type": "code",
   "execution_count": 7,
   "id": "e1cb3b5e-e9a2-4c54-b380-1a1f309fa62a",
   "metadata": {},
   "outputs": [],
   "source": [
    "def draw_grid():\n",
    "    #horizontal lines\n",
    "    pygame.draw.line(screen, LINE_COLOR, (0,SQUARE_SIZE), (WIDTH, SQUARE_SIZE), LINE_WIDTH)\n",
    "    pygame.draw.line(screen, LINE_COLOR, (0,SQUARE_SIZE*2), (WIDTH, SQUARE_SIZE*2), LINE_WIDTH)\n",
    "\n",
    "    #vertical lines\n",
    "    pygame.draw.line(screen, LINE_COLOR, (SQUARE_SIZE,0), (SQUARE_SIZE,HEIGHT), LINE_WIDTH)\n",
    "    pygame.draw.line(screen, LINE_COLOR, (SQUARE_SIZE*2,0), (SQUARE_SIZE*2,HEIGHT), LINE_WIDTH)\n"
   ]
  },
  {
   "cell_type": "code",
   "execution_count": 1,
   "id": "809cea41-7ec1-490d-ac3e-781bc5ebeaf6",
   "metadata": {},
   "outputs": [],
   "source": [
    "def draw_figures():\n",
    "    for row in range(BOARD_ROWS):\n",
    "        for col in range(BOARD_COLS):\n",
    "            if board[row][col] == 1:\n",
    "                #draw a circle\n",
    "                pygame.draw.circle(screen, CIRCLE_COLOR, (col*SQUARE_SIZE + SQUARE_SIZE//2, row*SQUARE_SIZE + SQUARE_SIZE//2), CIRCLE_RADIUS, CIRCLE_WIDTH)\n",
    "                \n",
    "            elif board[row][col]:\n",
    "                #draw a cross\n",
    "                font = pygame.font.SysFont(\"arial\",45)\n",
    "                text_surface = font.render(\"X\", True, CROSS_COLOR)\n",
    "                text_rect = text_surface.get_rect(center = (col*SQUARE_SIZE + SQUARE_SIZE//2, row*SQUARE_SIZE + SQUARE_SIZE//2))\n",
    "                screen.blit(text_surface, text_rect)"
   ]
  },
  {
   "cell_type": "code",
   "execution_count": 9,
   "id": "a470acb8-2efd-42f6-bbbf-a8454840becb",
   "metadata": {},
   "outputs": [],
   "source": [
    "def mark_square(row,col,player):\n",
    "    board[row][col] = player"
   ]
  },
  {
   "cell_type": "code",
   "execution_count": 10,
   "id": "886bb3f6-d237-432b-bf13-5ff54d8fdc26",
   "metadata": {},
   "outputs": [],
   "source": [
    "def available_square(row,col):\n",
    "    return board[row][col]==0"
   ]
  },
  {
   "cell_type": "code",
   "execution_count": 11,
   "id": "bf25e740-fb01-42d5-be71-150819301c7a",
   "metadata": {},
   "outputs": [],
   "source": [
    "def is_board_full():\n",
    "    for row in board:\n",
    "        for cell in row:\n",
    "            if cell == 0:\n",
    "                return False\n",
    "    return True"
   ]
  },
  {
   "cell_type": "code",
   "execution_count": 12,
   "id": "e6ab0785-1648-4e30-b25f-c74742579a03",
   "metadata": {},
   "outputs": [],
   "source": [
    "def check_win(player):\n",
    "    #check rows, cols and diagonals\n",
    "    for row in range(BOARD_ROWS):\n",
    "        if  all([cell == player for cell in board[row]]):\n",
    "            return True\n",
    "\n",
    "    for col in range(BOARD_COLS):\n",
    "        if all([board[row][col] == player for row in range(BOARD_ROWS)]):\n",
    "            return True\n",
    "\n",
    "    if all([board[i][i] == player for i in range(BOARD_ROWS)]):\n",
    "        return True\n",
    "\n",
    "    if all([board[i][BOARD_ROWS -1 -i]  == player for i in range(BOARD_ROWS)]):\n",
    "        return True\n",
    "    return False"
   ]
  },
  {
   "cell_type": "code",
   "execution_count": null,
   "id": "9670180f-6842-4507-91f2-3b59c3d78652",
   "metadata": {},
   "outputs": [],
   "source": [
    "def restart():\n",
    "    global board, player\n",
    "    board = [[0]*BOARD_COLS for _ in range(BOARD_ROWS)]\n",
    "    screen.fill(BG_COLOR)\n",
    "    "
   ]
  },
  {
   "cell_type": "code",
   "execution_count": 13,
   "id": "a076f182-b31b-4eec-ac14-822fdde1ff86",
   "metadata": {},
   "outputs": [
    {
     "ename": "FileNotFoundError",
     "evalue": "No file 'arial' found in working directory '/home/saurav/Documents/Reinforcement_Learning/projects'.",
     "output_type": "error",
     "traceback": [
      "\u001b[0;31m---------------------------------------------------------------------------\u001b[0m",
      "\u001b[0;31mFileNotFoundError\u001b[0m                         Traceback (most recent call last)",
      "Cell \u001b[0;32mIn[13], line 32\u001b[0m\n\u001b[1;32m     29\u001b[0m         game_over \u001b[38;5;241m=\u001b[39m \u001b[38;5;28;01mTrue\u001b[39;00m\n\u001b[1;32m     30\u001b[0m     player \u001b[38;5;241m=\u001b[39m player\u001b[38;5;241m%\u001b[39m\u001b[38;5;241m2\u001b[39m \u001b[38;5;241m+\u001b[39m \u001b[38;5;241m1\u001b[39m \u001b[38;5;66;03m#switching the player\u001b[39;00m\n\u001b[0;32m---> 32\u001b[0m     \u001b[43mdraw_figures\u001b[49m\u001b[43m(\u001b[49m\u001b[43m)\u001b[49m\n\u001b[1;32m     34\u001b[0m \u001b[38;5;28;01mif\u001b[39;00m event\u001b[38;5;241m.\u001b[39mtype \u001b[38;5;241m==\u001b[39m pygame\u001b[38;5;241m.\u001b[39mKEYDOWN:\n\u001b[1;32m     35\u001b[0m     \u001b[38;5;28;01mif\u001b[39;00m event\u001b[38;5;241m.\u001b[39mkey \u001b[38;5;241m==\u001b[39m pygame\u001b[38;5;241m.\u001b[39mK_r:\n",
      "Cell \u001b[0;32mIn[8], line 10\u001b[0m, in \u001b[0;36mdraw_figures\u001b[0;34m()\u001b[0m\n\u001b[1;32m      6\u001b[0m     pygame\u001b[38;5;241m.\u001b[39mdraw\u001b[38;5;241m.\u001b[39mcircle(screen, CIRCLE_COLOR, (col\u001b[38;5;241m*\u001b[39mSQUARE_SIZE \u001b[38;5;241m+\u001b[39m SQUARE_SIZE\u001b[38;5;241m/\u001b[39m\u001b[38;5;241m/\u001b[39m\u001b[38;5;241m2\u001b[39m, row\u001b[38;5;241m*\u001b[39mSQUARE_SIZE \u001b[38;5;241m+\u001b[39m SQUARE_SIZE\u001b[38;5;241m/\u001b[39m\u001b[38;5;241m/\u001b[39m\u001b[38;5;241m2\u001b[39m), CIRCLE_RADIUS, CIRCLE_WIDTH)\n\u001b[1;32m      8\u001b[0m \u001b[38;5;28;01melif\u001b[39;00m board[row][col]:\n\u001b[1;32m      9\u001b[0m     \u001b[38;5;66;03m#draw a cross\u001b[39;00m\n\u001b[0;32m---> 10\u001b[0m     font \u001b[38;5;241m=\u001b[39m \u001b[43mpygame\u001b[49m\u001b[38;5;241;43m.\u001b[39;49m\u001b[43mfont\u001b[49m\u001b[38;5;241;43m.\u001b[39;49m\u001b[43mFont\u001b[49m\u001b[43m(\u001b[49m\u001b[38;5;124;43m\"\u001b[39;49m\u001b[38;5;124;43marial\u001b[39;49m\u001b[38;5;124;43m\"\u001b[39;49m\u001b[43m,\u001b[49m\u001b[38;5;241;43m45\u001b[39;49m\u001b[43m)\u001b[49m\n\u001b[1;32m     11\u001b[0m     text_surface \u001b[38;5;241m=\u001b[39m font\u001b[38;5;241m.\u001b[39mrender(\u001b[38;5;124m\"\u001b[39m\u001b[38;5;124mX\u001b[39m\u001b[38;5;124m\"\u001b[39m, \u001b[38;5;28;01mTrue\u001b[39;00m, CROSS_COLOR)\n\u001b[1;32m     12\u001b[0m     text_rect \u001b[38;5;241m=\u001b[39m text_surface\u001b[38;5;241m.\u001b[39mget_rect(center \u001b[38;5;241m=\u001b[39m (col\u001b[38;5;241m*\u001b[39mSQUARE_SIZE \u001b[38;5;241m+\u001b[39m SQUARE_SIZE\u001b[38;5;241m/\u001b[39m\u001b[38;5;241m/\u001b[39m\u001b[38;5;241m2\u001b[39m, row\u001b[38;5;241m*\u001b[39mSQUARE_SIZE \u001b[38;5;241m+\u001b[39m SQUARE_SIZE\u001b[38;5;241m/\u001b[39m\u001b[38;5;241m/\u001b[39m\u001b[38;5;241m2\u001b[39m))\n",
      "\u001b[0;31mFileNotFoundError\u001b[0m: No file 'arial' found in working directory '/home/saurav/Documents/Reinforcement_Learning/projects'."
     ]
    }
   ],
   "source": [
    "#setting up display\n",
    "screen = pygame.display.set_mode((WIDTH, HEIGHT))\n",
    "pygame.display.set_caption('Tic Tac Toe')\n",
    "screen.fill(BG_COLOR)\n",
    "\n",
    "board = [[0]*BOARD_COLS for _ in range(BOARD_ROWS)]\n",
    "\n",
    "draw_grid()\n",
    "player = 1\n",
    "game_over = False\n",
    "\n",
    "#main loop\n",
    "while True:\n",
    "    for event in pygame.event.get():\n",
    "        if event.type == pygame.QUIT:\n",
    "            pygame.quit()\n",
    "            sys.exit()\n",
    "\n",
    "        if event.type == pygame.MOUSEBUTTONDOWN and not game_over:\n",
    "            mousex = event.pos[0]  # X coordinate \n",
    "            mousey = event.pos[1]  # Y coordinate\n",
    "\n",
    "            clicked_row = mousey // SQUARE_SIZE\n",
    "            clicked_col = mousex // SQUARE_SIZE\n",
    "\n",
    "            if available_square(clicked_row, clicked_col):\n",
    "                mark_square(clicked_row, clicked_col, player)\n",
    "                if check_win(player):\n",
    "                    print(f\"Player {player} wins!\")\n",
    "                    game_over = True\n",
    "                player = player%2 + 1 #switching the player\n",
    "\n",
    "                draw_figures()\n",
    "\n",
    "            if event.type == pygame.KEYDOWN:\n",
    "                if event.key == pygame.K_r:\n",
    "                    restart()\n",
    "                    game_over = False\n",
    "    pygame.display.update()"
   ]
  },
  {
   "cell_type": "code",
   "execution_count": null,
   "id": "110f6974-9e2a-49b5-ba8f-0a726838f47e",
   "metadata": {},
   "outputs": [],
   "source": []
  },
  {
   "cell_type": "code",
   "execution_count": null,
   "id": "debd6b43-1bce-4864-8b29-b1ad12430231",
   "metadata": {},
   "outputs": [],
   "source": []
  }
 ],
 "metadata": {
  "kernelspec": {
   "display_name": "Python 3 (ipykernel)",
   "language": "python",
   "name": "python3"
  },
  "language_info": {
   "codemirror_mode": {
    "name": "ipython",
    "version": 3
   },
   "file_extension": ".py",
   "mimetype": "text/x-python",
   "name": "python",
   "nbconvert_exporter": "python",
   "pygments_lexer": "ipython3",
   "version": "3.10.12"
  }
 },
 "nbformat": 4,
 "nbformat_minor": 5
}
