{
 "cells": [
  {
   "cell_type": "code",
   "execution_count": 3,
   "id": "d0b6a2f3-d996-4336-87da-3dd23a215a22",
   "metadata": {},
   "outputs": [
    {
     "name": "stdout",
     "output_type": "stream",
     "text": [
      "pygame 2.6.1 (SDL 2.28.4, Python 3.10.12)\n",
      "Hello from the pygame community. https://www.pygame.org/contribute.html\n"
     ]
    }
   ],
   "source": [
    "import pygame\n",
    "import sys"
   ]
  },
  {
   "cell_type": "code",
   "execution_count": 4,
   "id": "fab5d794-6b78-4acf-8d41-4cad738176ab",
   "metadata": {},
   "outputs": [
    {
     "data": {
      "text/plain": [
       "(5, 0)"
      ]
     },
     "execution_count": 4,
     "metadata": {},
     "output_type": "execute_result"
    }
   ],
   "source": [
    "#initialize pygame\n",
    "pygame.init()"
   ]
  },
  {
   "cell_type": "code",
   "execution_count": 5,
   "id": "a6b91afd-9e17-4c63-bc3d-6d8d13302c03",
   "metadata": {},
   "outputs": [],
   "source": [
    "#constants\n",
    "WIDTH, HEIGHT = 300, 300\n",
    "LINE_WIDTH = 5\n",
    "BOARD_ROWS = 3\n",
    "BOARD_COLS = 3\n",
    "SQUARE_SIZE = WIDTH // BOARD_COLS\n",
    "CIRCLE_RADIUS = SQUARE_SIZE // 3\n",
    "CIRCLE_WIDTH = 10\n",
    "CROSS_WIDTH = 15\n",
    "SPACE = SQUARE_SIZE//4\n",
    "\n",
    "#Colors\n",
    "BG_COLOR = (255, 255, 255)\n",
    "LINE_COLOR = (0, 0, 0)\n",
    "CIRCLE_COLOR = (100, 100, 100)\n",
    "CROSS_COLOR = (180, 180, 180)\n"
   ]
  },
  {
   "cell_type": "code",
   "execution_count": 6,
   "id": "e1cb3b5e-e9a2-4c54-b380-1a1f309fa62a",
   "metadata": {},
   "outputs": [],
   "source": [
    "def draw_grid():\n",
    "    #horizontal lines\n",
    "    pygame.draw.line(screen, LINE_COLOR, (0,SQUARE_SIZE), (WIDTH, SQUARE_SIZE), LINE_WIDTH)\n",
    "    pygame.draw.line(screen, LINE_COLOR, (0,SQUARE_SIZE*2), (WIDTH, SQUARE_SIZE*2), LINE_WIDTH)\n",
    "\n",
    "    #vertical lines\n",
    "    pygame.draw.line(screen, LINE_COLOR, (SQUARE_SIZE,0), (SQUARE_SIZE,HEIGHT), LINE_WIDTH)\n",
    "    pygame.draw.line(screen, LINE_COLOR, (SQUARE_SIZE*2,0), (SQUARE_SIZE*2,HEIGHT), LINE_WIDTH)\n"
   ]
  },
  {
   "cell_type": "code",
   "execution_count": 7,
   "id": "809cea41-7ec1-490d-ac3e-781bc5ebeaf6",
   "metadata": {},
   "outputs": [],
   "source": [
    "def draw_figures():\n",
    "    for row in range(BOARD_ROWS):\n",
    "        for col in range(BOARD_COLS):\n",
    "            if board[row][col] == 1:\n",
    "                #draw a circle\n",
    "                pygame.draw.circle(screen, CIRCLE_COLOR, (col*SQUARE_SIZE + SQUARE_SIZE//2, row*SQUARE_SIZE + SQUARE_SIZE//2), CIRCLE_RADIUS, CIRCLE_WIDTH)\n",
    "                \n",
    "            elif board[row][col]:\n",
    "                #draw a cross\n",
    "                font = pygame.font.Font(None,30)\n",
    "                text_surface = font.render(\"X\", True, CROSS_COLOR)\n",
    "                text_rect = text_surface.get_rect(center = (col*SQUARE_SIZE + SQUARE_SIZE//2, row*SQUARE_SIZE + SQUARE_SIZE//2))\n",
    "                screen.blit(text_surface, text_rect)"
   ]
  },
  {
   "cell_type": "code",
   "execution_count": 8,
   "id": "a470acb8-2efd-42f6-bbbf-a8454840becb",
   "metadata": {},
   "outputs": [],
   "source": [
    "def mark_square(row,col,player):\n",
    "    board[row][col] = player"
   ]
  },
  {
   "cell_type": "code",
   "execution_count": 9,
   "id": "886bb3f6-d237-432b-bf13-5ff54d8fdc26",
   "metadata": {},
   "outputs": [],
   "source": [
    "def available_square(row,col):\n",
    "    return board[row][col]==0"
   ]
  },
  {
   "cell_type": "code",
   "execution_count": 10,
   "id": "bf25e740-fb01-42d5-be71-150819301c7a",
   "metadata": {},
   "outputs": [],
   "source": [
    "def is_board_full():\n",
    "    for row in board:\n",
    "        for cell in row:\n",
    "            if cell == 0:\n",
    "                return False\n",
    "    return True"
   ]
  },
  {
   "cell_type": "code",
   "execution_count": 11,
   "id": "12a9f05b-733a-4e0b-9360-63a603224a93",
   "metadata": {},
   "outputs": [
    {
     "data": {
      "text/plain": [
       "<rect(0, 0, 300, 300)>"
      ]
     },
     "execution_count": 11,
     "metadata": {},
     "output_type": "execute_result"
    }
   ],
   "source": [
    "#Setting up display\n",
    "screen = pygame.display.set_mode((WIDTH, HEIGHT))\n",
    "pygame.display.set_caption('Tic Tac Toe')\n",
    "screen.fill(BG_COLOR)\n"
   ]
  },
  {
   "cell_type": "code",
   "execution_count": null,
   "id": "47a01e1e-30be-4a36-a33f-7b7058163b80",
   "metadata": {},
   "outputs": [],
   "source": [
    "\n",
    "\n",
    "#Setting up display\n",
    "screen = pygame.display.set_mode((WIDTH, HEIGHT))\n",
    "pygame.display.set_caption('Tic Tac Toe')\n",
    "screen.fill(BG_COLOR)\n",
    "draw_grid()\n",
    "\n",
    "running=True\n",
    "while running:\n",
    "    for event in pygame.event.get():\n",
    "        if event.type == pygame.QUIT:\n",
    "            running = False\n",
    "\n",
    "    pygame.display.flip()    #update the screen\n",
    "\n",
    "pygame.quit()\n",
    "            \n",
    "\n"
   ]
  },
  {
   "cell_type": "code",
   "execution_count": null,
   "id": "9670180f-6842-4507-91f2-3b59c3d78652",
   "metadata": {},
   "outputs": [],
   "source": []
  },
  {
   "cell_type": "code",
   "execution_count": 20,
   "id": "a076f182-b31b-4eec-ac14-822fdde1ff86",
   "metadata": {},
   "outputs": [],
   "source": [
    "draw_grid()\n",
    "player = 1\n",
    "game_over = False\n",
    "\n",
    "#main loop\n",
    "while True:\n",
    "    for event in pygame.event.get():\n",
    "        if event.type == pygame.QUIT:\n",
    "            pygame.quit()\n",
    "            sys.exit()\n",
    "\n",
    "        if event.type == pygame.MOUSEBUTTONDOWN and not game_over:\n",
    "            mousex = event.pos[0]  # X coordinate \n",
    "            mousey = event.pos[1]  # Y coordinate\n",
    "\n",
    "            clicked_row = mousey // SQUARE_SIZE\n",
    "            clicked_col = mousex // SQUARE_SIZE\n",
    "\n",
    "            if available_square(clicked_row, clicked_col):\n",
    "                mark_square(clicked_row, clicked_col, player)\n",
    "                if check_win(player):\n",
    "                    game_over = True\n",
    "                player = player%2 + 1 #switching the player\n",
    "\n",
    "                draw_figures()\n",
    "\n",
    "            if event.type == pygame.KEYDOWN:\n",
    "                if event.key == pygame.K_r:\n",
    "                    restart()\n",
    "                    game_over = False\n",
    "    pygame.display.update()"
   ]
  },
  {
   "cell_type": "code",
   "execution_count": null,
   "id": "110f6974-9e2a-49b5-ba8f-0a726838f47e",
   "metadata": {},
   "outputs": [],
   "source": []
  }
 ],
 "metadata": {
  "kernelspec": {
   "display_name": "Python 3 (ipykernel)",
   "language": "python",
   "name": "python3"
  },
  "language_info": {
   "codemirror_mode": {
    "name": "ipython",
    "version": 3
   },
   "file_extension": ".py",
   "mimetype": "text/x-python",
   "name": "python",
   "nbconvert_exporter": "python",
   "pygments_lexer": "ipython3",
   "version": "3.10.12"
  }
 },
 "nbformat": 4,
 "nbformat_minor": 5
}
