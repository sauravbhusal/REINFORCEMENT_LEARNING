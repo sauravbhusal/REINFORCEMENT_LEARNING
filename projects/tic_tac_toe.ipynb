{
 "cells": [
  {
   "cell_type": "code",
   "execution_count": 6,
   "id": "d0b6a2f3-d996-4336-87da-3dd23a215a22",
   "metadata": {},
   "outputs": [],
   "source": [
    "import pygame\n",
    "import sys"
   ]
  },
  {
   "cell_type": "code",
   "execution_count": 7,
   "id": "fab5d794-6b78-4acf-8d41-4cad738176ab",
   "metadata": {},
   "outputs": [
    {
     "data": {
      "text/plain": [
       "(5, 0)"
      ]
     },
     "execution_count": 7,
     "metadata": {},
     "output_type": "execute_result"
    }
   ],
   "source": [
    "#initialize pygame\n",
    "pygame.init()"
   ]
  },
  {
   "cell_type": "code",
   "execution_count": 8,
   "id": "a6b91afd-9e17-4c63-bc3d-6d8d13302c03",
   "metadata": {},
   "outputs": [],
   "source": [
    "#constants\n",
    "WIDTH, HEIGHT = 300, 300\n",
    "LINE_WIDTH = 5\n",
    "BOARD_ROWS = 3\n",
    "BOARD_COLS = 3\n",
    "SQUARE_SIZE = WIDTH // BOARD_COLS\n",
    "CIRCLE_RADIUS = SQUARE_SIZE // 3\n",
    "CIRCLE_WIDTH = 10\n",
    "CROSS_WIDTH = 15\n",
    "SPACE = SQUARE_SIZE//4\n",
    "\n",
    "#Colors\n",
    "BG_COLOR = (255, 255, 255)\n",
    "LINE_COLOR = (0, 0, 0)\n",
    "CIRCLE_COLOR = (100, 100, 100)\n",
    "CROSS_COLOR = (180, 180, 180)\n"
   ]
  },
  {
   "cell_type": "code",
   "execution_count": 9,
   "id": "b0cf60b5-ead8-4c01-aedf-f370b3dfa9a8",
   "metadata": {},
   "outputs": [],
   "source": [
    "def draw_grid():\n",
    "    #horizontal lines\n",
    "    pygame.draw.line(screen, LINE_COLOR, (0,SQUARE_SIZE), (WIDTH, SQUARE_SIZE), LINE_WIDTH)\n",
    "    pygame.draw.line(screen, LINE_COLOR, (0,SQUARE_SIZE*2), (WIDTH, SQUARE_SIZE*2), LINE_WIDTH)\n",
    "\n",
    "    #vertical lines"
   ]
  },
  {
   "cell_type": "code",
   "execution_count": 11,
   "id": "12a9f05b-733a-4e0b-9360-63a603224a93",
   "metadata": {},
   "outputs": [],
   "source": [
    "#Setting up display\n",
    "screen = pygame.display.set_mode((WIDTH, HEIGHT))\n",
    "pygame.display.set_caption('Tic Tac Toe')\n",
    "screen.fill(BG_COLOR)\n",
    "draw_grid()\n",
    "\n",
    "running=True\n",
    "while running:\n",
    "    for event in pygame.event.get():\n",
    "        if event.type == pygame.QUIT:\n",
    "            running = False\n",
    "\n",
    "    pygame.display.flip()    #update the screen\n",
    "\n",
    "pygame.quit()\n",
    "            "
   ]
  },
  {
   "cell_type": "code",
   "execution_count": null,
   "id": "a076f182-b31b-4eec-ac14-822fdde1ff86",
   "metadata": {},
   "outputs": [],
   "source": []
  }
 ],
 "metadata": {
  "kernelspec": {
   "display_name": "Python 3 (ipykernel)",
   "language": "python",
   "name": "python3"
  },
  "language_info": {
   "codemirror_mode": {
    "name": "ipython",
    "version": 3
   },
   "file_extension": ".py",
   "mimetype": "text/x-python",
   "name": "python",
   "nbconvert_exporter": "python",
   "pygments_lexer": "ipython3",
   "version": "3.10.12"
  }
 },
 "nbformat": 4,
 "nbformat_minor": 5
}
